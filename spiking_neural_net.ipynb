{
 "cells": [
  {
   "cell_type": "code",
   "execution_count": 8,
   "metadata": {},
   "outputs": [],
   "source": [
    "import numpy as np\n",
    "import matplotlib.pyplot as plt"
   ]
  },
  {
   "cell_type": "markdown",
   "metadata": {},
   "source": [
    "## Setup"
   ]
  },
  {
   "cell_type": "code",
   "execution_count": 9,
   "metadata": {},
   "outputs": [
    {
     "name": "stdout",
     "output_type": "stream",
     "text": [
      "[[ 0.66461921 -0.03808894  0.83169721  1.80040643 -0.14420598 -0.14418781\n",
      "   1.86258212  0.96421608 -0.4046274   0.71535523]\n",
      " [-0.39792468 -0.40048335  0.38269433 -2.00243618 -1.79398218 -0.50734042\n",
      "  -1.00594105  0.46268965 -0.8899548  -1.4480232 ]\n",
      " [ 1.73690481 -0.13493537  0.18965433 -1.46179507 -0.48752581  0.23767736\n",
      "  -1.15884054  0.53069494 -0.54978229 -0.20788388]\n",
      " [-0.55096412  2.16477389  0.09998636 -1.05560794  1.02520457 -1.23614114\n",
      "   0.3460652  -2.05377422 -1.35493317  0.33278261]\n",
      " [ 0.93215805  0.30457046 -0.0130606  -0.21829753 -1.52130463 -0.68170281\n",
      "  -0.39484934  1.28480297  0.49519344 -1.8361708 ]\n",
      " [ 0.4735755  -0.31123365 -0.63420233  0.79184373  1.2558939   1.14553797\n",
      "  -0.81380903 -0.22727112  0.48152076  1.19452448]\n",
      " [-0.41536189 -0.09053895 -1.10941845 -1.20887622  1.01411679  1.61582604\n",
      "   0.03523221  1.22549756  0.51513303 -0.59900791]\n",
      " [ 0.51486697  1.81701382  0.07527585  1.84645895 -2.78425581  1.02449364\n",
      "   0.21125517 -0.21597758  0.21647166 -2.08464882]\n",
      " [-0.12817983  0.51012709  1.75045623 -0.45862802 -0.77980796 -0.44035348\n",
      "   1.12796634  0.47874046 -0.47134358  0.68293814]\n",
      " [ 0.22235554  1.18688834 -0.66201402 -0.24768883 -0.31900894 -1.50469687\n",
      "   0.44262908  0.40382388  0.12058214 -0.14468601]]\n"
     ]
    }
   ],
   "source": [
    "# random seed\n",
    "np.random.seed(42)\n",
    "\n",
    "n = 10 # dim x dim for the matrix M\n",
    "M = np.random.randn(n,n)\n",
    "\n",
    "mean = np.mean(M)\n",
    "M -= mean\n",
    "\n",
    "std = np.std(M)\n",
    "M /= std\n",
    "\n",
    "print(M)"
   ]
  },
  {
   "cell_type": "markdown",
   "metadata": {},
   "source": [
    "## Update Rule"
   ]
  },
  {
   "cell_type": "code",
   "execution_count": 24,
   "metadata": {},
   "outputs": [],
   "source": [
    "\n",
    "# Update parameters\n",
    "dt = 0.01\n",
    "\n",
    "dxi = np.sum(M) * dt  # Change in value\n",
    "noise = np.random.randn(n, n)  # Random noise\n",
    "leakage = 0.05  # Leakage factor\n",
    "\n",
    "# Update the matrix values\n",
    "M += dxi + noise - leakage"
   ]
  },
  {
   "cell_type": "code",
   "execution_count": 25,
   "metadata": {},
   "outputs": [
    {
     "data": {
      "image/png": "[encoded data removed]",
      "text/plain": [
       "<Figure size 432x288 with 2 Axes>"
      ]
     },
     "metadata": {
      "needs_background": "light"
     },
     "output_type": "display_data"
    }
   ],
   "source": [
    "plt.imshow(M, cmap='hot', interpolation = 'nearest')\n",
    "plt.colorbar()\n",
    "plt.show()"
   ]
  },
  {
   "cell_type": "code",
   "execution_count": 26,
   "metadata": {},
   "outputs": [
    {
     "data": {
      "image/png": "[encoded data removed]",
      "text/plain": [
       "<Figure size 432x288 with 2 Axes>"
      ]
     },
     "metadata": {
      "needs_background": "light"
     },
     "output_type": "display_data"
    }
   ],
   "source": [
    "import numpy as np\n",
    "import matplotlib.pyplot as plt\n",
    "from matplotlib.animation import FuncAnimation\n",
    "\n",
    "# random seed\n",
    "np.random.seed(42)\n",
    "\n",
    "n = 10  # dim x dim for the matrix M\n",
    "M = np.random.randn(n, n)\n",
    "\n",
    "mean = np.mean(M)\n",
    "M -= mean\n",
    "\n",
    "std = np.std(M)\n",
    "M /= std\n",
    "\n",
    "# Update parameters\n",
    "dt = 0.01\n",
    "leakage = 0.05  # Leakage factor\n",
    "\n",
    "fig, ax = plt.subplots()\n",
    "heatmap = ax.imshow(M, cmap='hot', interpolation='nearest')\n",
    "plt.colorbar(heatmap)\n",
    "\n",
    "def update(frame):\n",
    "    global M\n",
    "    dxi = np.sum(M) * dt  # Change in value\n",
    "    noise = np.random.randn(n, n)  # Random noise\n",
    "\n",
    "    M += dxi + noise - leakage\n",
    "    heatmap.set_data(M)\n",
    "    return heatmap,\n",
    "\n",
    "ani = FuncAnimation(fig, update, frames=range(100), interval=50, blit=True)\n",
    "plt.show()\n"
   ]
  },
  {
   "cell_type": "code",
   "execution_count": null,
   "metadata": {},
   "outputs": [],
   "source": []
  }
 ],
 "metadata": {
  "kernelspec": {
   "display_name": "Python 3",
   "language": "python",
   "name": "python3"
  },
  "language_info": {
   "codemirror_mode": {
    "name": "ipython",
    "version": 3
   },
   "file_extension": ".py",
   "mimetype": "text/x-python",
   "name": "python",
   "nbconvert_exporter": "python",
   "pygments_lexer": "ipython3",
   "version": "3.9.13"
  }
 },
 "nbformat": 4,
 "nbformat_minor": 2
}
