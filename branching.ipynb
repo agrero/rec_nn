{
 "cells": [
  {
   "cell_type": "code",
   "execution_count": 43,
   "metadata": {},
   "outputs": [
    {
     "data": {
      "image/png": "[encoded data removed]",
      "text/plain": [
       "<Figure size 432x288 with 1 Axes>"
      ]
     },
     "metadata": {
      "needs_background": "light"
     },
     "output_type": "display_data"
    }
   ],
   "source": [
    "import numpy as np\n",
    "import matplotlib.pyplot as plt\n",
    "\n",
    "# Set the parameters\n",
    "num_simulations = 10000\n",
    "max_generations = 100000\n",
    "\n",
    "# Function to simulate one branching process\n",
    "def simulate_branching_process():\n",
    "    generations = 0\n",
    "    nodes = 1\n",
    "    total_pop = 1\n",
    "    max_pop = 1\n",
    "\n",
    "    while nodes > 0 and generations < max_generations:\n",
    "        # Number of new nodes follows a Poisson distribution\n",
    "        new_nodes = np.random.poisson(nodes)\n",
    "\n",
    "        # Update nodes for the next generation\n",
    "        nodes = new_nodes\n",
    "        total_pop = total_pop + nodes\n",
    "        max_pop = nodes if nodes > max_pop else max_pop\n",
    "        generations += 1\n",
    "\n",
    "    return total_pop # or max_pop or total_pop\n",
    "\n",
    "# Run simulations\n",
    "extinction_times = [simulate_branching_process() for _ in range(num_simulations)]\n",
    "\n",
    "# Plot histogram on log-log scale with equal aspect ratio\n",
    "plt.hist(extinction_times, bins=np.logspace(0, np.log10(max(extinction_times)), 50), density=True, alpha=0.7)\n",
    "plt.xscale('log')\n",
    "plt.yscale('log')\n",
    "plt.title('Total Population of Process')\n",
    "plt.xlabel('Total Population')\n",
    "plt.ylabel('Probability Density')\n",
    "\n",
    "# Add reference line with slope -3/2\n",
    "x_vals = np.logspace(0, np.log10(max(extinction_times)), 100)\n",
    "y_vals = x_vals**(-3/2)\n",
    "plt.plot(x_vals, y_vals, color='red', linestyle='--', label='Reference Line: $y = x^{-3/2}$')\n",
    "\n",
    "plt.gca().set_aspect('equal', adjustable='box')  # Set equal aspect ratio\n",
    "plt.legend()\n",
    "plt.show()"
   ]
  },
  {
   "cell_type": "code",
   "execution_count": 45,
   "metadata": {},
   "outputs": [
    {
     "data": {
      "text/plain": [
       "[<matplotlib.lines.Line2D at 0x1f9c5436ac0>]"
      ]
     },
     "execution_count": 45,
     "metadata": {},
     "output_type": "execute_result"
    },
    {
     "data": {
      "image/png": "[encoded data removed]",
      "text/plain": [
       "<Figure size 432x288 with 1 Axes>"
      ]
     },
     "metadata": {
      "needs_background": "light"
     },
     "output_type": "display_data"
    }
   ],
   "source": [
    "def critical_branching_process(max_generations):\n",
    "    \"\"\"\n",
    "    Simulate a critical branching process until extinction.\n",
    "\n",
    "    :param max_generations: Maximum number of generations to simulate.\n",
    "    :return: Number of generations until extinction.\n",
    "    \"\"\"\n",
    "    population = 1  # Start with an initial population of 1\n",
    "    generations = 0  # Generation counter\n",
    "\n",
    "    # Loop until the population goes extinct or reaches the maximum generations\n",
    "    while population > 0 and generations < max_generations:\n",
    "        # The population for the next generation is the sum of Poisson-distributed random variables,\n",
    "        # each representing the offspring count for each individual in the current population.\n",
    "        population = sum(np.random.poisson(1.0, population))\n",
    "        generations += 1  # Increment generation counter\n",
    "\n",
    "    return generations  # Return the number of generations\n",
    "\n",
    "# Parameters for the simulation\n",
    "num_simulations = 100000  # Number of branching process simulations to run\n",
    "max_generations = 1000   # Maximum number of generations for each simulation\n",
    "\n",
    "# Run the simulations and store the lifetimes\n",
    "lifetimes = [critical_branching_process(max_generations) for _ in range(num_simulations)]\n",
    "\n",
    "# Count the frequency of each lifetime\n",
    "lifetime_counts = np.bincount(lifetimes)\n",
    "\n",
    "# Generate an array of generation indices\n",
    "generations = np.arange(len(lifetime_counts))\n",
    "\n",
    "# Filter out zero generation for plotting\n",
    "nonzero = generations > 0\n",
    "\n",
    "# Plot the simulation data on a log-log scale\n",
    "plt.loglog(generations[nonzero], lifetime_counts[nonzero], marker='o', linestyle='none', label='Simulation Data')\n",
    "\n",
    "# Adding a line with a slope of -3/2 in log-log space\n",
    "# Create a range of x values for plotting the theoretical line\n",
    "x_range = np.linspace(min(generations[nonzero]), max(generations[nonzero]), 100)\n",
    "\n",
    "# Constant C for the theoretical line, adjust as needed for alignment\n",
    "C = 10000\n",
    "# Calculate the y values for the theoretical line\n",
    "y_line = C * x_range ** (-3/2)\n",
    "\n",
    "# Plot the theoretical line\n",
    "plt.loglog(x_range, y_line, label='y = Cx^-3/2')\n",
    "\n",
    "# Add labels, title, and legend to the plot\n",
    "\n"
   ]
  },
  {
   "cell_type": "code",
   "execution_count": 3,
   "metadata": {},
   "outputs": [],
   "source": [
    "import numpy as np\n",
    "# my stuff\n",
    "\n",
    "# I think the major difference between what I was doing and what he was doing was \n",
    "# he is doing what I was doing multiple times\n",
    "\n",
    "def branch(max_gen, lmd=1.0):\n",
    "\n",
    "    population = 1\n",
    "    generations = 0 \n",
    "    while population > 0 and generations < max_gen:\n",
    "        population = sum(np.random.poisson(lmd, population))\n",
    "        generations += 1\n",
    "    \n",
    "    return generations\n",
    "\n",
    "num_sim = 1000\n",
    "max_gen = 100\n",
    "\n",
    "lifetimes = [branch(max_gen, lmd=1.0) for _ in range(num_sim)]\n",
    "\n",
    "life_counts = np.bincount(lifetimes)\n",
    "\n",
    "generations = np.arange(len(life_counts))\n",
    "\n"
   ]
  },
  {
   "cell_type": "markdown",
   "metadata": {},
   "source": []
  }
 ],
 "metadata": {
  "kernelspec": {
   "display_name": "Python 3",
   "language": "python",
   "name": "python3"
  },
  "language_info": {
   "codemirror_mode": {
    "name": "ipython",
    "version": 3
   },
   "file_extension": ".py",
   "mimetype": "text/x-python",
   "name": "python",
   "nbconvert_exporter": "python",
   "pygments_lexer": "ipython3",
   "version": "3.9.13"
  }
 },
 "nbformat": 4,
 "nbformat_minor": 2
}
