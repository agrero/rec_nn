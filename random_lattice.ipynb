{
 "cells": [
  {
   "cell_type": "code",
   "execution_count": 5,
   "metadata": {},
   "outputs": [
    {
     "data": {
      "image/png": "[encoded data removed]",
      "text/plain": [
       "<Figure size 432x288 with 1 Axes>"
      ]
     },
     "metadata": {
      "needs_background": "light"
     },
     "output_type": "display_data"
    }
   ],
   "source": [
    "import matplotlib.pyplot as plt\n",
    "\n",
    "# Define the number of points in each dimension\n",
    "n = 10\n",
    "\n",
    "# Generate the x and y coordinates of the points\n",
    "x = [i for i in range(n) for _ in range(n)]\n",
    "y = [j for _ in range(n) for j in range(n)]\n",
    "\n",
    "# Create a figure and axis\n",
    "fig, ax = plt.subplots()\n",
    "\n",
    "# Plot the points\n",
    "ax.plot(x, y, 'bo')\n",
    "\n",
    "# Connect the points horizontally\n",
    "for i in range(n):\n",
    "    for j in range(n-1):\n",
    "        ax.plot([x[i*n+j], x[i*n+j+1]], [y[i*n+j], y[i*n+j+1]], 'k-')\n",
    "\n",
    "# Connect the points vertically\n",
    "for i in range(n-1):\n",
    "    for j in range(n):\n",
    "        ax.plot([x[i*n+j], x[(i+1)*n+j]], [y[i*n+j], y[(i+1)*n+j]], 'k-')\n",
    "\n",
    "# Set the axis limits\n",
    "ax.set_xlim(0, n-1)\n",
    "ax.set_ylim(0, n-1)\n",
    "\n",
    "# Show the plot\n",
    "plt.show()\n"
   ]
  },
  {
   "cell_type": "code",
   "execution_count": 6,
   "metadata": {},
   "outputs": [
    {
     "data": {
      "image/png": "[encoded data removed]",
      "text/plain": [
       "<Figure size 432x288 with 1 Axes>"
      ]
     },
     "metadata": {
      "needs_background": "light"
     },
     "output_type": "display_data"
    }
   ],
   "source": [
    "import random\n",
    "\n",
    "# Define the probability of eliminating a connection\n",
    "p = 0.5\n",
    "\n",
    "# Create graph object\n",
    "fig, ax = plt.subplots()\n",
    "ax.plot(x,y, 'bo')\n",
    "\n",
    "# Iterate through each connection horizontally\n",
    "for i in range(n):\n",
    "    for j in range(n-1):\n",
    "        if random.random() < p:\n",
    "            ax.plot([x[i*n+j], x[i*n+j+1]], [y[i*n+j], y[i*n+j+1]], 'b-')\n",
    "\n",
    "# Iterate through each connection vertically\n",
    "for i in range(n-1):\n",
    "    for j in range(n):\n",
    "        if random.random() < p:\n",
    "            ax.plot([x[i*n+j], x[(i+1)*n+j]], [y[i*n+j], y[(i+1)*n+j]], 'b-')\n",
    "\n",
    "# Show the updated plot\n",
    "plt.show()\n"
   ]
  },
  {
   "cell_type": "code",
   "execution_count": 7,
   "metadata": {},
   "outputs": [],
   "source": [
    "\n",
    "def count_largest_subsequent_connections(x, y, p, n=10):\n",
    "    # Initialize variables\n",
    "    max_connections_horizontal = 0\n",
    "    max_connections_vertical = 0\n",
    "    current_connections_horizontal = 0\n",
    "    current_connections_vertical = 0\n",
    "\n",
    "    # Iterate through each connection horizontally\n",
    "    for i in range(n):\n",
    "        for j in range(n-1):\n",
    "            if random.random() < p:\n",
    "                current_connections_horizontal += 1\n",
    "            else:\n",
    "                max_connections_horizontal = max(max_connections_horizontal, current_connections_horizontal)\n",
    "                current_connections_horizontal = 0\n",
    "\n",
    "    # Check if the last set of connections is the largest\n",
    "    max_connections_horizontal = max(max_connections_horizontal, current_connections_horizontal)\n",
    "\n",
    "    # Iterate through each connection vertically\n",
    "    for i in range(n-1):\n",
    "        for j in range(n):\n",
    "            if random.random() < p:\n",
    "                current_connections_vertical += 1\n",
    "            else:\n",
    "                max_connections_vertical = max(max_connections_vertical, current_connections_vertical)\n",
    "                current_connections_vertical = 0\n",
    "\n",
    "    # Check if the last set of connections is the largest\n",
    "    max_connections_vertical = max(max_connections_vertical, current_connections_vertical)\n",
    "\n",
    "    return max_connections_horizontal, max_connections_vertical\n"
   ]
  },
  {
   "cell_type": "code",
   "execution_count": 8,
   "metadata": {},
   "outputs": [
    {
     "data": {
      "image/png": "[encoded data removed]",
      "text/plain": [
       "<Figure size 432x288 with 1 Axes>"
      ]
     },
     "metadata": {
      "needs_background": "light"
     },
     "output_type": "display_data"
    }
   ],
   "source": [
    "counts = []\n",
    "num_probs = 40\n",
    "probs = [(i*0.05) for i in range(num_probs)]\n",
    "\n",
    "for i in probs:\n",
    "    count = count_largest_subsequent_connections(x, y, i, n=10)\n",
    "    counts.append(sum(count))\n",
    "\n",
    "# Plot the counts against the i values\n",
    "plt.plot(probs, counts)\n",
    "\n",
    "# Set the x-axis label\n",
    "plt.xlabel('i')\n",
    "\n",
    "# Set the y-axis label\n",
    "plt.ylabel('counts')\n",
    "\n",
    "# Show the plot\n",
    "plt.show()\n"
   ]
  },
  {
   "cell_type": "code",
   "execution_count": null,
   "metadata": {},
   "outputs": [],
   "source": []
  },
  {
   "cell_type": "code",
   "execution_count": 9,
   "metadata": {},
   "outputs": [],
   "source": [
    "def percolation_simulation(p, n=10):\n",
    "    # Initialize the grid\n",
    "    grid = [[random.random() < p for _ in range(n)] for _ in range(n)]\n",
    "\n",
    "    # Perform depth-first search to find connected clusters\n",
    "    def dfs(i, j):\n",
    "        if 0 <= i < n and 0 <= j < n and grid[i][j]:\n",
    "            grid[i][j] = False  # Mark the node as visited\n",
    "            for di, dj in [(-1, 0), (1, 0), (0, -1), (0, 1)]:\n",
    "                dfs(i + di, j + dj)\n",
    "\n",
    "    # Count connected clusters\n",
    "    count_clusters = 0\n",
    "    for i in range(n):\n",
    "        for j in range(n):\n",
    "            if grid[i][j]:\n",
    "                count_clusters += 1\n",
    "                dfs(i, j)\n",
    "\n",
    "    return count_clusters"
   ]
  },
  {
   "cell_type": "code",
   "execution_count": null,
   "metadata": {},
   "outputs": [
    {
     "ename": "",
     "evalue": "",
     "output_type": "error",
     "traceback": [
      "\u001b[1;31mThe Kernel crashed while executing code in the current cell or a previous cell. \n",
      "\u001b[1;31mPlease review the code in the cell(s) to identify a possible cause of the failure. \n",
      "\u001b[1;31mClick <a href='https://aka.ms/vscodeJupyterKernelCrash'>here</a> for more info. \n",
      "\u001b[1;31mView Jupyter <a href='command:jupyter.viewOutput'>log</a> for further details."
     ]
    }
   ],
   "source": [
    "# Simulation parameters\n",
    "num_probs = 40\n",
    "probs = [(i*0.05) for i in range(num_probs)]\n",
    "\n",
    "# Run simulations for each probability\n",
    "counts = [percolation_simulation(p, n=100) for p in probs]\n",
    "\n",
    "# Plot the results\n",
    "\n",
    "plt.plot(probs, counts)\n",
    "plt.xlabel('p')\n",
    "plt.ylabel('Connected Clusters')\n",
    "plt.title('Percolation Simulation')\n",
    "plt.show()"
   ]
  },
  {
   "cell_type": "code",
   "execution_count": null,
   "metadata": {},
   "outputs": [],
   "source": []
  }
 ],
 "metadata": {
  "kernelspec": {
   "display_name": "Python 3",
   "language": "python",
   "name": "python3"
  },
  "language_info": {
   "codemirror_mode": {
    "name": "ipython",
    "version": 3
   },
   "file_extension": ".py",
   "mimetype": "text/x-python",
   "name": "python",
   "nbconvert_exporter": "python",
   "pygments_lexer": "ipython3",
   "version": "3.9.13"
  }
 },
 "nbformat": 4,
 "nbformat_minor": 2
}
